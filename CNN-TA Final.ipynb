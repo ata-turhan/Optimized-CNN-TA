{
 "cells": [
  {
   "cell_type": "code",
   "execution_count": null,
   "metadata": {},
   "outputs": [],
   "source": [
    "#%load_ext jupyter_black"
   ]
  },
  {
   "cell_type": "code",
   "execution_count": null,
   "metadata": {},
   "outputs": [],
   "source": [
    "import datetime as dt\n",
    "import math\n",
    "import os\n",
    "import random\n",
    "import sys\n",
    "import time\n",
    "\n",
    "import keras\n",
    "import numpy as np\n",
    "import pandas as pd\n",
    "import sklearn\n",
    "import talib\n",
    "import tensorflow as tf\n",
    "import tensorflow_addons as tfa\n",
    "import yfinance as yf\n",
    "from fastai.tabular.core import df_shrink\n",
    "from matplotlib import pyplot as plt\n",
    "#from tensorflow.keras.metrics import *\n",
    "from trading_modules.create_backtest import (\n",
    "    VaR,\n",
    "    average_drawdown,\n",
    "    average_drawdown_squared,\n",
    "    beta,\n",
    "    burke_ratio,\n",
    "    calmar_ratio,\n",
    "    classification_report_display,\n",
    "    conditional_sharpe_ratio,\n",
    "    confusion_matrix_display,\n",
    "    cVaR,\n",
    "    excess_var,\n",
    "    financial_evaluation,\n",
    "    gain_loss_ratio,\n",
    "    hpm,\n",
    "    information_ratio,\n",
    "    kappa_three_ratio,\n",
    "    lpm,\n",
    "    max_drawdown,\n",
    "    modigliani_ratio,\n",
    "    omega_ratio,\n",
    "    plain_classification_report,\n",
    "    plot_charts,\n",
    "    plot_init,\n",
    "    plot_tables,\n",
    "    second_2_minute_converter,\n",
    "    sharpe_ratio,\n",
    "    sortino_ratio,\n",
    "    sterling_ratio,\n",
    "    treynor_ratio,\n",
    "    upside_potential_ratio,\n",
    "    volatility,\n",
    ")\n",
    "from trading_modules.create_data import (\n",
    "    CMF,\n",
    "    HMA,\n",
    "    adjustPrices,\n",
    "    create_2d_data,\n",
    "    create_all_indicators_in_talib,\n",
    "    create_labels,\n",
    "    number_null_and_nan,\n",
    "    one_hot,\n",
    "    pltcolor,\n",
    "    reverse_one_hot,\n",
    "    show_label_distribution,\n",
    "    show_price_and_labels,\n",
    "    show_prices,\n",
    "    trendNormalizePrices,\n",
    ")\n",
    "from trading_modules.create_neural_networks import (\n",
    "    create_model_CNN_2D,\n",
    "    create_model_GRU,\n",
    "    create_model_LSTM,\n",
    "    create_model_MLP,\n",
    "    model_ho,\n",
    "    model_train_test,\n",
    "    show_epoch_and_score,\n",
    ")\n",
    "from trading_modules.create_strategy import (\n",
    "    create_buy_and_hold_predictions,\n",
    "    create_bollinger_bands_predictions,\n",
    "    create_ema_crossover_predictions,\n",
    "    create_random_predictions,\n",
    "    create_rsi_predictions,\n",
    ")\n",
    "from trading_modules.feaure_engineering import feature_selection, scaling\n",
    "from trading_modules.configurations import shift_predictions"
   ]
  },
  {
   "cell_type": "markdown",
   "metadata": {},
   "source": [
    "<h1 style=\"font-size:40px;\"> <center> CONSTANTS </center> </h1>"
   ]
  },
  {
   "cell_type": "code",
   "execution_count": null,
   "metadata": {},
   "outputs": [],
   "source": [
    "SEED = 42\n",
    "TRAIN_TEST_EPOCH = 30\n",
    "HO_EPOCH = 10\n",
    "HO_TRIALS = 10\n",
    "FINAL_MODEL_EPOCH = 50\n",
    "MAX_ROW_AND_COLUMN_2_DISPLAY = 100\n",
    "LENGTH = 30\n",
    "METRIC=\"precision\" # precision, recall, f1_score\n",
    "TICKER = \"SPY\"\n",
    "BENCHMARK_TICKER = \"SPY\"\n",
    "START_DATE = \"2009-05-20\"\n",
    "END_DATE = \"2023-01-01\"\n",
    "INTERVAL = \"1d\"\n",
    "RUN_MLP = FALSE\n",
    "RUN_LSTM = FALSE\n",
    "RUN_GRU = FALSE\n",
    "RUN_CNN = FALSE"
   ]
  },
  {
   "cell_type": "code",
   "execution_count": null,
   "metadata": {},
   "outputs": [],
   "source": [
    "pd.set_option(\"display.max_rows\", MAX_ROW_AND_COLUMN_2_DISPLAY)\n",
    "pd.set_option(\"display.max_columns\", MAX_ROW_AND_COLUMN_2_DISPLAY)"
   ]
  },
  {
   "cell_type": "markdown",
   "metadata": {},
   "source": [
    "<h1 style=\"font-size:40px;\"> <center> DATA PREPROCESSING </center> </h1>"
   ]
  },
  {
   "cell_type": "code",
   "execution_count": null,
   "metadata": {},
   "outputs": [],
   "source": [
    "prices = yf.download(\n",
    "    TICKER,\n",
    "    start=START_DATE,\n",
    "    end=END_DATE,\n",
    "    interval=INTERVAL,\n",
    "    progress=False,\n",
    "    auto_adjust=True,\n",
    ")\n",
    "prices"
   ]
  },
  {
   "cell_type": "code",
   "execution_count": null,
   "metadata": {},
   "outputs": [],
   "source": [
    "print(f\"{prices.memory_usage().sum()/(1024**2)} MB is used before df_shrink\")\n",
    "prices = df_shrink(prices, int2uint=True)\n",
    "print(f\"{prices.memory_usage().sum()/(1024**2)} MB is used after df_shrink\")"
   ]
  },
  {
   "cell_type": "code",
   "execution_count": null,
   "metadata": {},
   "outputs": [],
   "source": [
    "show_prices(ticker=TICKER, df=prices.iloc[150:, :], desc=f\"Close Price of {TICKER}\")"
   ]
  },
  {
   "cell_type": "markdown",
   "metadata": {},
   "source": [
    "<h1 style=\"font-size:30px;\"> <center> Trend Normalize and Visualize </center> </h1>"
   ]
  },
  {
   "cell_type": "code",
   "execution_count": null,
   "metadata": {},
   "outputs": [],
   "source": [
    "tn_prices = trendNormalizePrices(prices)\n",
    "tn_prices"
   ]
  },
  {
   "cell_type": "code",
   "execution_count": null,
   "metadata": {},
   "outputs": [],
   "source": [
    "show_prices(\n",
    "    ticker=TICKER, df=tn_prices.iloc[150:, :], desc=f\"Close TN-Price of {TICKER}\"\n",
    ")"
   ]
  },
  {
   "cell_type": "markdown",
   "metadata": {},
   "source": [
    "<h1 style=\"font-size:30px;\"> <center> Adding Technical Indicators </center> </h1>"
   ]
  },
  {
   "cell_type": "code",
   "execution_count": null,
   "metadata": {},
   "outputs": [],
   "source": [
    "prices_and_indicators = create_all_indicators_in_talib(\n",
    "    df=tn_prices, periods=list(range(7, 30))\n",
    ")"
   ]
  },
  {
   "cell_type": "code",
   "execution_count": null,
   "metadata": {},
   "outputs": [],
   "source": [
    "prices_and_indicators.head(5)"
   ]
  },
  {
   "cell_type": "markdown",
   "metadata": {},
   "source": [
    "<h1 style=\"font-size:30px;\"> <center> Data Labeling </center> </h1>"
   ]
  },
  {
   "cell_type": "code",
   "execution_count": null,
   "metadata": {},
   "outputs": [],
   "source": [
    "prices_and_indicators_with_label = create_labels(prices_and_indicators)\n",
    "prices_and_indicators_with_label.head(5)"
   ]
  },
  {
   "cell_type": "code",
   "execution_count": null,
   "metadata": {},
   "outputs": [],
   "source": [
    "show_label_distribution(prices_and_indicators_with_label)"
   ]
  },
  {
   "cell_type": "code",
   "execution_count": null,
   "metadata": {},
   "outputs": [],
   "source": [
    "prices_with_label = create_labels(prices)\n",
    "show_price_and_labels(\n",
    "    ticker=TICKER, df=prices_with_label, desc=f\"Close Price with Labels of {TICKER}\"\n",
    ")"
   ]
  },
  {
   "cell_type": "code",
   "execution_count": null,
   "metadata": {},
   "outputs": [],
   "source": [
    "tn_prices_with_label = create_labels(tn_prices)\n",
    "show_price_and_labels(\n",
    "    ticker=TICKER,\n",
    "    df=tn_prices_with_label,\n",
    "    desc=f\"Close TN-Price with Labels of {TICKER}\",\n",
    ")"
   ]
  },
  {
   "cell_type": "markdown",
   "metadata": {},
   "source": [
    "<h1 style=\"font-size:30px;\"> <center> Creating Train & Test Data </center> </h1>"
   ]
  },
  {
   "cell_type": "code",
   "execution_count": null,
   "metadata": {},
   "outputs": [],
   "source": [
    "prices_and_indicators_with_label.info()"
   ]
  },
  {
   "cell_type": "code",
   "execution_count": null,
   "metadata": {},
   "outputs": [],
   "source": [
    "datas_1d = []\n",
    "\n",
    "for i in range(5, 13):\n",
    "    train = prices_and_indicators_with_label.loc[\n",
    "        (prices_and_indicators_with_label.index >= f\"{2009+i-5}-12\")\n",
    "        & (prices_and_indicators_with_label.index <= f\"{2010+i}\")\n",
    "    ]\n",
    "    test = prices_and_indicators_with_label.loc[\n",
    "        (prices_and_indicators_with_label.index >= f\"{2009+i}-12\")\n",
    "        & (prices_and_indicators_with_label.index <= f\"{2010+i+1}\")\n",
    "    ]\n",
    "    datas_1d.append([train, test])"
   ]
  },
  {
   "cell_type": "code",
   "execution_count": null,
   "metadata": {},
   "outputs": [],
   "source": [
    "datas_1d[0][0].head(5)"
   ]
  },
  {
   "cell_type": "markdown",
   "metadata": {},
   "source": [
    "<h1 style=\"font-size:30px;\"> <center> Feature Selection </center> </h1>"
   ]
  },
  {
   "cell_type": "code",
   "execution_count": null,
   "metadata": {},
   "outputs": [],
   "source": [
    "datas_1d[0][0].head(5)"
   ]
  },
  {
   "cell_type": "code",
   "execution_count": null,
   "metadata": {},
   "outputs": [],
   "source": [
    "datas_1d, selected_features = feature_selection(datas_1d)"
   ]
  },
  {
   "cell_type": "code",
   "execution_count": null,
   "metadata": {},
   "outputs": [],
   "source": [
    "print(selected_features)"
   ]
  },
  {
   "cell_type": "code",
   "execution_count": null,
   "metadata": {},
   "outputs": [],
   "source": [
    "datas_1d[0][0].head(5)"
   ]
  },
  {
   "cell_type": "markdown",
   "metadata": {},
   "source": [
    "<h1 style=\"font-size:30px;\"> <center> Feature Scaling </center> </h1>"
   ]
  },
  {
   "cell_type": "code",
   "execution_count": null,
   "metadata": {},
   "outputs": [],
   "source": [
    "datas_1d = scaling(datas_1d)"
   ]
  },
  {
   "cell_type": "code",
   "execution_count": null,
   "metadata": {},
   "outputs": [],
   "source": [
    "datas_1d[0][0].head(5)"
   ]
  },
  {
   "cell_type": "code",
   "execution_count": null,
   "metadata": {},
   "outputs": [],
   "source": [
    "datas_1d[0][1].head(5)"
   ]
  },
  {
   "cell_type": "markdown",
   "metadata": {},
   "source": [
    "<h1 style=\"font-size:30px;\"> <center> Controling Null Values </center> </h1>"
   ]
  },
  {
   "cell_type": "code",
   "execution_count": null,
   "metadata": {},
   "outputs": [],
   "source": [
    "total_na_count = 0\n",
    "for data in datas_1d:\n",
    "    total_na_count += number_null_and_nan(data[0])\n",
    "    total_na_count += number_null_and_nan(data[1])\n",
    "print(f\"Total null and nan values = {total_na_count}\")"
   ]
  },
  {
   "cell_type": "code",
   "execution_count": null,
   "metadata": {},
   "outputs": [],
   "source": [
    "test_indices = []\n",
    "for data in datas_1d:\n",
    "    test_indices.extend(data[1][29:].index)"
   ]
  },
  {
   "cell_type": "markdown",
   "metadata": {},
   "source": [
    "<h1 style=\"font-size:40px;\"> <center> OTHER STRATEGIES </center> </h1>"
   ]
  },
  {
   "cell_type": "markdown",
   "metadata": {},
   "source": [
    "<h1 style=\"font-size:30px;\"> Buy & Hold </h1>"
   ]
  },
  {
   "cell_type": "code",
   "execution_count": null,
   "metadata": {},
   "outputs": [],
   "source": [
    "buy_and_hold_prediction = create_buy_and_hold_predictions(len(test_indices))\n",
    "buy_and_hold_prediction"
   ]
  },
  {
   "cell_type": "markdown",
   "metadata": {},
   "source": [
    "<h1 style=\"font-size:30px;\"> Random Trades </h1>"
   ]
  },
  {
   "cell_type": "code",
   "execution_count": null,
   "metadata": {},
   "outputs": [],
   "source": [
    "random_prediction = create_random_predictions(prices.loc[test_indices])\n",
    "random_prediction"
   ]
  },
  {
   "cell_type": "markdown",
   "metadata": {},
   "source": [
    "<h1 style=\"font-size:30px;\"> RSI </h1>"
   ]
  },
  {
   "cell_type": "code",
   "execution_count": null,
   "metadata": {},
   "outputs": [],
   "source": [
    "rsi_prediction = create_rsi_predictions(\n",
    "    prices_and_indicators.loc[test_indices], period=14, buy_value=40, sell_value=60\n",
    ")\n",
    "rsi_prediction"
   ]
  },
  {
   "cell_type": "markdown",
   "metadata": {},
   "source": [
    "<h1 style=\"font-size:30px;\"> EMA Cross-over </h1>"
   ]
  },
  {
   "cell_type": "code",
   "execution_count": null,
   "metadata": {},
   "outputs": [],
   "source": [
    "ema_crossover_prediction = create_ema_crossover_predictions(\n",
    "    prices_and_indicators.loc[test_indices]\n",
    ")\n",
    "ema_crossover_prediction"
   ]
  },
  {
   "cell_type": "markdown",
   "metadata": {},
   "source": [
    "<h1 style=\"font-size:30px;\"> Bollinger Bands </h1>"
   ]
  },
  {
   "cell_type": "code",
   "execution_count": null,
   "metadata": {},
   "outputs": [],
   "source": [
    "bollinger_bands_prediction = create_bollinger_bands_predictions(\n",
    "    prices.loc[test_indices]\n",
    ")\n",
    "bollinger_bands_prediction"
   ]
  },
  {
   "cell_type": "markdown",
   "metadata": {},
   "source": [
    "<h1 style=\"font-size:40px;\"> <center> INITIAL MODELS </center> </h1>"
   ]
  },
  {
   "cell_type": "markdown",
   "metadata": {},
   "source": [
    "<h1 style=\"font-size:30px;\"> Matrix Data Creation </h1>"
   ]
  },
  {
   "cell_type": "code",
   "execution_count": null,
   "metadata": {},
   "outputs": [],
   "source": [
    "datas_2d = create_2d_data(datas_1d, LENGTH)"
   ]
  },
  {
   "cell_type": "markdown",
   "metadata": {},
   "source": [
    "<h1 style=\"font-size:30px;\"> <center> MLP </center> </h1>"
   ]
  },
  {
   "cell_type": "code",
   "execution_count": null,
   "metadata": {},
   "outputs": [],
   "source": [
    "if RUN_MLP:\n",
    "    results = model_train_test(\"MLP\", datas_1d, epochs=TRAIN_TEST_EPOCH, metric=METRIC)\n",
    "    print(f\"\\nMean {METRIC} score: {results[1]}\\n\")\n",
    "    print(f\"Completed in {results[2]} minutes\")\n",
    "    history = results[3]\n",
    "    show_epoch_and_score(\n",
    "        history,\n",
    "        [\n",
    "            \"loss\",\n",
    "            f\"{METRIC}\",\n",
    "        ],\n",
    "    )"
   ]
  },
  {
   "cell_type": "markdown",
   "metadata": {},
   "source": [
    "<h1 style=\"font-size:30px;\"> <center> LSTM </center> </h1>"
   ]
  },
  {
   "cell_type": "code",
   "execution_count": null,
   "metadata": {},
   "outputs": [],
   "source": [
    "if RUN_LSTM:  \n",
    "    results = model_train_test(\"LSTM\", datas_2d, epochs=TRAIN_TEST_EPOCH)\n",
    "    print(f\"\\nMean f1-macro score: {results[1]}\\n\")\n",
    "    print(f\"Completed in {results[2]} minutes\")\n",
    "    history = results[3]\n",
    "    show_epoch_and_score(\n",
    "        history,\n",
    "        [\n",
    "            \"loss\",\n",
    "            \"f1_score\",\n",
    "        ],\n",
    "    )"
   ]
  },
  {
   "cell_type": "markdown",
   "metadata": {},
   "source": [
    "<h1 style=\"font-size:30px;\"> <center> GRU </center> </h1>"
   ]
  },
  {
   "cell_type": "code",
   "execution_count": null,
   "metadata": {},
   "outputs": [],
   "source": [
    "if RUN_GRU:     \n",
    "    results = model_train_test(\"GRU\", datas_2d, epochs=TRAIN_TEST_EPOCH)\n",
    "    print(f\"\\nMean f1-macro score: {results[1]}\\n\")\n",
    "    print(f\"Completed in {results[2]} minutes\")\n",
    "    history = results[3]\n",
    "    show_epoch_and_score(\n",
    "        history,\n",
    "        [\n",
    "            \"loss\",\n",
    "            \"f1_score\",\n",
    "        ],\n",
    "    )"
   ]
  },
  {
   "cell_type": "markdown",
   "metadata": {},
   "source": [
    "<h1 style=\"font-size:30px;\"> <center> CNN </center> </h1>"
   ]
  },
  {
   "cell_type": "code",
   "execution_count": null,
   "metadata": {},
   "outputs": [],
   "source": [
    "if RUN_CNN:  \n",
    "    results = model_train_test(\"CNN_2D\", datas_2d, epochs=TRAIN_TEST_EPOCH)\n",
    "    print(f\"\\nMean f1-macro score: {results[1]}\\n\")\n",
    "    print(f\"Completed in {results[2]} minutes\")\n",
    "    history = results[3]\n",
    "    show_epoch_and_score(\n",
    "        history,\n",
    "        [\n",
    "            \"loss\",\n",
    "            \"f1_score\",\n",
    "        ],\n",
    "    )"
   ]
  },
  {
   "cell_type": "markdown",
   "metadata": {},
   "source": [
    "<h1 style=\"font-size:40px;\"> <center> HYPERPARAMETER TUNING </center> </h1>"
   ]
  },
  {
   "cell_type": "markdown",
   "metadata": {},
   "source": [
    "<h1 style=\"font-size:30px;\"> <center> MLP </center> </h1>"
   ]
  },
  {
   "cell_type": "code",
   "execution_count": null,
   "metadata": {},
   "outputs": [],
   "source": [
    "if RUN_MLP:\n",
    "    mlp_parameter_space = {\n",
    "        \"activation_func\": [\"relu\", \"selu\", \"swish\"],\n",
    "        \"dropout_rate\": [0.1, 0.2, 0.3],\n",
    "        \"optimizer_algo\": [\"adam\", \"adadelta\", \"rmsprop\"],\n",
    "        \"batch_size\": [32, 64, 256],\n",
    "    }\n",
    "    best_mlp_parameters = model_ho(\n",
    "        \"MLP\",\n",
    "        datas_1d,\n",
    "        epochs=HO_EPOCH,\n",
    "        parameter_space=mlp_parameter_space,\n",
    "        metric=METRIC,\n",
    "        trial_number=50, #HO_TRIALS\n",
    "    )"
   ]
  },
  {
   "cell_type": "markdown",
   "metadata": {},
   "source": [
    "<h1 style=\"font-size:30px;\"> <center> LSTM </center> </h1>"
   ]
  },
  {
   "cell_type": "code",
   "execution_count": null,
   "metadata": {},
   "outputs": [],
   "source": [
    "if RUN_LSTM:\n",
    "    lstm_parameter_space = {\n",
    "        \"activation_func\": [\"tanh\", \"swish\"],\n",
    "        \"dropout_rate\": [0.2, 0.3, 0.4],\n",
    "        \"optimizer_algo\": [\"adam\", \"adadelta\", \"rmsprop\"],\n",
    "        \"batch_size\": [32, 64, 256],\n",
    "    }\n",
    "    best_lstm_parameters = model_ho(\n",
    "        \"LSTM\",\n",
    "        datas_2d,\n",
    "        epochs=HO_EPOCH,\n",
    "        parameter_space=lstm_parameter_space,\n",
    "        trial_number=HO_TRIALS,\n",
    "    )"
   ]
  },
  {
   "cell_type": "markdown",
   "metadata": {},
   "source": [
    "<h1 style=\"font-size:30px;\"> <center> GRU </center> </h1>"
   ]
  },
  {
   "cell_type": "code",
   "execution_count": null,
   "metadata": {},
   "outputs": [],
   "source": [
    "if RUN_GRU:\n",
    "    gru_parameter_space = {\n",
    "        \"activation_func\": [\"tanh\", \"swish\"],\n",
    "        \"dropout_rate\": [0.2, 0.3, 0.4],\n",
    "        \"optimizer_algo\": [\"adam\", \"adadelta\", \"rmsprop\"],\n",
    "        \"batch_size\": [32, 64, 256],\n",
    "    }\n",
    "    best_gru_parameters = model_ho(\n",
    "        \"GRU\",\n",
    "        datas_2d,\n",
    "        epochs=HO_EPOCH,\n",
    "        parameter_space=gru_parameter_space,\n",
    "        trial_number=HO_TRIALS,\n",
    "    )"
   ]
  },
  {
   "cell_type": "markdown",
   "metadata": {},
   "source": [
    "<h1 style=\"font-size:30px;\"> <center> CNN </center> </h1>"
   ]
  },
  {
   "cell_type": "code",
   "execution_count": null,
   "metadata": {},
   "outputs": [],
   "source": [
    "if RUN_CNN:\n",
    "    cnn2d_parameter_space = {\n",
    "        \"activation_func\": [\"relu\", \"selu\", \"swish\"],\n",
    "        \"dropout_rate\": [0.3, 0.4, 0.5],\n",
    "        \"optimizer_algo\": [\"adam\", \"adadelta\", \"rmsprop\"],\n",
    "        \"batch_size\": [32, 64, 256],\n",
    "    }\n",
    "    best_cnn2d_parameters = model_ho(\n",
    "        \"CNN_2D\",\n",
    "        datas_2d,\n",
    "        epochs=HO_EPOCH,\n",
    "        parameter_space=cnn2d_parameter_space,\n",
    "        trial_number=HO_TRIALS,\n",
    "    )"
   ]
  },
  {
   "cell_type": "markdown",
   "metadata": {},
   "source": [
    "<h1 style=\"font-size:40px;\"> <center> FINAL MODEL CREATION </center> </h1>"
   ]
  },
  {
   "cell_type": "markdown",
   "metadata": {},
   "source": [
    "<h1 style=\"font-size:30px;\"> <center> MLP </center> </h1>"
   ]
  },
  {
   "cell_type": "code",
   "execution_count": null,
   "metadata": {},
   "outputs": [],
   "source": [
    "if RUN_MLP:\n",
    "    results = model_train_test(\n",
    "        \"MLP\",\n",
    "        datas_1d,\n",
    "        epochs=FINAL_MODEL_EPOCH, parameters=best_mlp_parameters, metric=METRIC\n",
    "    )\n",
    "    history = results[3]\n",
    "    show_epoch_and_score(\n",
    "        history,\n",
    "        [\n",
    "            \"loss\",\n",
    "            f\"{METRIC}\",\n",
    "        ],\n",
    "    )\n",
    "    EPOCH_BEFORE_OVERFIT = 20\n",
    "    mlp_predictions = model_train_test(\n",
    "        \"MLP\",\n",
    "        datas_1d,\n",
    "        epochs=EPOCH_BEFORE_OVERFIT, parameters=best_mlp_parameters, metric=METRIC\n",
    "    )[0]\n",
    "    mlp_prediction = np.concatenate(mlp_predictions)\n",
    "    mlp_prediction = shift_predictions(mlp_prediction)\n",
    "    mlp_prediction"
   ]
  },
  {
   "cell_type": "markdown",
   "metadata": {},
   "source": [
    "<h1 style=\"font-size:30px;\"> <center> LSTM </center> </h1>"
   ]
  },
  {
   "cell_type": "code",
   "execution_count": null,
   "metadata": {},
   "outputs": [],
   "source": [
    "if RUN_LSTM:\n",
    "    results = model_train_test(\n",
    "        \"LSTM\", datas_2d, epochs=FINAL_MODEL_EPOCH, parameters=best_lstm_parameters\n",
    "    )\n",
    "    history = results[3]\n",
    "    show_epoch_and_score(\n",
    "        history,\n",
    "        [\n",
    "            \"loss\",\n",
    "            \"f1_score\",\n",
    "        ],\n",
    "    )\n",
    "    EPOCH_BEFORE_OVERFIT = 20\n",
    "    lstm_predictions = model_train_test(\n",
    "        \"LSTM\", datas_2d, epochs=EPOCH_BEFORE_OVERFIT, parameters=best_lstm_parameters\n",
    "    )[0]\n",
    "    lstm_prediction = np.concatenate(lstm_predictions)\n",
    "    lstm_prediction = shift_predictions(lstm_prediction)\n",
    "    lstm_prediction"
   ]
  },
  {
   "cell_type": "markdown",
   "metadata": {},
   "source": [
    "<h1 style=\"font-size:30px;\"> <center> GRU </center> </h1>"
   ]
  },
  {
   "cell_type": "code",
   "execution_count": null,
   "metadata": {},
   "outputs": [],
   "source": [
    "if RUN_GRU:\n",
    "    results = model_train_test(\n",
    "        \"GRU\", datas_2d, epochs=FINAL_MODEL_EPOCH, parameters=best_gru_parameters\n",
    "    )\n",
    "    history = results[3]\n",
    "    show_epoch_and_score(\n",
    "        history,\n",
    "        [\n",
    "            \"loss\",\n",
    "            \"f1_score\",\n",
    "        ],\n",
    "    )\n",
    "    EPOCH_BEFORE_OVERFIT = 20\n",
    "    gru_predictions = model_train_test(\n",
    "        \"GRU\", datas_2d, epochs=EPOCH_BEFORE_OVERFIT, parameters=best_gru_parameters\n",
    "    )[0]\n",
    "    gru_prediction = np.concatenate(gru_predictions)\n",
    "    gru_prediction = shift_predictions(gru_prediction)\n",
    "    gru_prediction"
   ]
  },
  {
   "cell_type": "markdown",
   "metadata": {},
   "source": [
    "<h1 style=\"font-size:30px;\"> <center> CNN-2D </center> </h1>"
   ]
  },
  {
   "cell_type": "code",
   "execution_count": null,
   "metadata": {},
   "outputs": [],
   "source": [
    "if RUN_CNN:\n",
    "    results = model_train_test(\n",
    "        \"CNN_2D\",\n",
    "        datas_2d,\n",
    "        epochs=FINAL_MODEL_EPOCH,\n",
    "        parameters=best_cnn2d_parameters,\n",
    "    )\n",
    "    history = results[3]\n",
    "    show_epoch_and_score(\n",
    "        history,\n",
    "        [\n",
    "            \"loss\",\n",
    "            \"f1_score\",\n",
    "        ],\n",
    "    )\n",
    "    EPOCH_BEFORE_OVERFIT = 20\n",
    "    cnn2d_predictions = model_train_test(\n",
    "        \"CNN_2D\", datas_2d, epochs=EPOCH_BEFORE_OVERFIT, parameters=best_cnn2d_parameters\n",
    "    )[0]\n",
    "    cnn2d_prediction = np.concatenate(cnn2d_predictions)\n",
    "    cnn2d_prediction = shift_predictions(cnn2d_prediction)\n",
    "    cnn2d_prediction"
   ]
  },
  {
   "cell_type": "markdown",
   "metadata": {},
   "source": [
    "<h1 style=\"font-size:40px;\"> <center> CLASSIFICATION EVALUATION </center> </h1>"
   ]
  },
  {
   "cell_type": "code",
   "execution_count": null,
   "metadata": {},
   "outputs": [],
   "source": [
    "test_labels = prices_and_indicators_with_label.loc[test_indices]\n",
    "test_labels.head(5)"
   ]
  },
  {
   "cell_type": "markdown",
   "metadata": {},
   "source": [
    "<h1 style=\"font-size:30px;\"> <center> MLP </center> </h1>"
   ]
  },
  {
   "cell_type": "code",
   "execution_count": null,
   "metadata": {},
   "outputs": [],
   "source": [
    "if RUN_MLP:\n",
    "    plain_classification_report(test_labels, mlp_prediction)\n",
    "    classification_report_display(test_labels, mlp_prediction)\n",
    "    confusion_matrix_display(test_labels, mlp_prediction)"
   ]
  },
  {
   "cell_type": "markdown",
   "metadata": {},
   "source": [
    "<h1 style=\"font-size:30px;\"> <center> LSTM </center> </h1>"
   ]
  },
  {
   "cell_type": "code",
   "execution_count": null,
   "metadata": {},
   "outputs": [],
   "source": [
    "if RUN_LSTM:\n",
    "    plain_classification_report(test_labels, lstm_prediction)\n",
    "    classification_report_display(test_labels, lstm_prediction)\n",
    "    confusion_matrix_display(test_labels, lstm_prediction)"
   ]
  },
  {
   "cell_type": "markdown",
   "metadata": {},
   "source": [
    "<h1 style=\"font-size:30px;\"> <center> GRU </center> </h1>"
   ]
  },
  {
   "cell_type": "code",
   "execution_count": null,
   "metadata": {},
   "outputs": [],
   "source": [
    "if RUN_GRU:\n",
    "    plain_classification_report(test_labels, gru_prediction)\n",
    "    classification_report_display(test_labels, gru_prediction)\n",
    "    confusion_matrix_display(test_labels, gru_prediction)"
   ]
  },
  {
   "cell_type": "markdown",
   "metadata": {},
   "source": [
    "<h1 style=\"font-size:30px;\"> <center> CNN-2D </center> </h1>"
   ]
  },
  {
   "cell_type": "code",
   "execution_count": null,
   "metadata": {},
   "outputs": [],
   "source": [
    "if RUN_CNN:    \n",
    "    plain_classification_report(test_labels, cnn2d_prediction)\n",
    "    classification_report_display(test_labels, cnn2d_prediction)\n",
    "    confusion_matrix_display(test_labels, cnn2d_prediction)"
   ]
  },
  {
   "cell_type": "markdown",
   "metadata": {},
   "source": [
    "<h1 style=\"font-size:40px;\"> <center> FINANCIAL EVALUATION </center> </h1>"
   ]
  },
  {
   "cell_type": "code",
   "execution_count": null,
   "metadata": {},
   "outputs": [],
   "source": [
    "test_prices = prices.loc[test_indices]\n",
    "test_prices"
   ]
  },
  {
   "cell_type": "code",
   "execution_count": null,
   "metadata": {},
   "outputs": [],
   "source": [
    "configurations = {\n",
    "    \"ticker\": TICKER,\n",
    "    \"benchmark_ticker\": BENCHMARK_TICKER,\n",
    "    \"ohlcv\": test_prices,\n",
    "    \"risk_free_rate\": 0.05 / 252,\n",
    "    \"initial_capital\": 1000,\n",
    "    \"commission\": 1,\n",
    "    \"alpha\": 0.05,\n",
    "    \"threshold\": 0,\n",
    "    \"order\": 1,\n",
    "    \"order_type\": \"market\",  # \"market\" or \"limit\"\n",
    "    \"short\": False,\n",
    "    \"short_fee\": 1,\n",
    "    \"standard_take_profit\": False,\n",
    "    \"trailing_take_profit\": False,\n",
    "    \"take_profit_ratio\": 100,\n",
    "    \"standard_stop_loss\": False,\n",
    "    \"trailing_stop_loss\": False,\n",
    "    \"stop_loss_ratio\": 100,\n",
    "    \"leverage\": 1,\n",
    "    \"miss_rate\": 10,\n",
    "    \"show_initial_configuration\": True,\n",
    "    \"show_tables\": True,\n",
    "    \"show_charts\": True,\n",
    "    \"show_time\": True,\n",
    "    \"precision_point\": 3,\n",
    "}"
   ]
  },
  {
   "cell_type": "markdown",
   "metadata": {},
   "source": [
    "<h1 style=\"font-size:30px;\"> <center> Buy & Hold </center> </h1>"
   ]
  },
  {
   "cell_type": "code",
   "execution_count": null,
   "metadata": {
    "scrolled": true
   },
   "outputs": [],
   "source": [
    "configurations[\"predictions\"] = buy_and_hold_prediction\n",
    "\n",
    "metrics = financial_evaluation(**configurations)"
   ]
  },
  {
   "cell_type": "markdown",
   "metadata": {},
   "source": [
    "<h1 style=\"font-size:30px;\"> <center> Random Prediction </center> </h1>"
   ]
  },
  {
   "cell_type": "code",
   "execution_count": null,
   "metadata": {
    "scrolled": false
   },
   "outputs": [],
   "source": [
    "configurations[\"predictions\"] = random_prediction\n",
    "\n",
    "metrics = financial_evaluation(**configurations)"
   ]
  },
  {
   "cell_type": "markdown",
   "metadata": {},
   "source": [
    "<h1 style=\"font-size:30px;\"> <center> RSI </center> </h1>"
   ]
  },
  {
   "cell_type": "code",
   "execution_count": null,
   "metadata": {
    "scrolled": false
   },
   "outputs": [],
   "source": [
    "configurations[\"predictions\"] = rsi_prediction\n",
    "\n",
    "metrics = financial_evaluation(**configurations)"
   ]
  },
  {
   "cell_type": "markdown",
   "metadata": {},
   "source": [
    "<h1 style=\"font-size:30px;\"> <center> EMA Crossover </center> </h1>"
   ]
  },
  {
   "cell_type": "code",
   "execution_count": null,
   "metadata": {
    "scrolled": false
   },
   "outputs": [],
   "source": [
    "configurations[\"predictions\"] = ema_crossover_prediction\n",
    "\n",
    "metrics = financial_evaluation(**configurations)"
   ]
  },
  {
   "cell_type": "markdown",
   "metadata": {},
   "source": [
    "<h1 style=\"font-size:30px;\"> <center> Bollinger Bands </center> </h1>"
   ]
  },
  {
   "cell_type": "code",
   "execution_count": null,
   "metadata": {
    "scrolled": false
   },
   "outputs": [],
   "source": [
    "configurations[\"predictions\"] = bollinger_bands_prediction\n",
    "\n",
    "metrics = financial_evaluation(**configurations)"
   ]
  },
  {
   "cell_type": "markdown",
   "metadata": {},
   "source": [
    "<h1 style=\"font-size:30px;\"> <center> MLP </center> </h1>"
   ]
  },
  {
   "cell_type": "code",
   "execution_count": null,
   "metadata": {
    "scrolled": false
   },
   "outputs": [],
   "source": [
    "if RUN_MLP:\n",
    "    configurations[\"predictions\"] = mlp_prediction\n",
    "    metrics = financial_evaluation(**configurations)"
   ]
  },
  {
   "cell_type": "markdown",
   "metadata": {},
   "source": [
    "<h1 style=\"font-size:30px;\"> <center> LSTM </center> </h1>"
   ]
  },
  {
   "cell_type": "code",
   "execution_count": null,
   "metadata": {
    "scrolled": false
   },
   "outputs": [],
   "source": [
    "if RUN_LSTM: \n",
    "    configurations[\"predictions\"] = lstm_prediction\n",
    "    metrics = financial_evaluation(**configurations)"
   ]
  },
  {
   "cell_type": "markdown",
   "metadata": {},
   "source": [
    "<h1 style=\"font-size:30px;\"> <center> GRU </center> </h1>"
   ]
  },
  {
   "cell_type": "code",
   "execution_count": null,
   "metadata": {},
   "outputs": [],
   "source": [
    "if RUN_GRU:\n",
    "    configurations[\"predictions\"] = gru_prediction\n",
    "    metrics = financial_evaluation(**configurations)"
   ]
  },
  {
   "cell_type": "markdown",
   "metadata": {},
   "source": [
    "<h1 style=\"font-size:30px;\"> <center> CNN </center> </h1>"
   ]
  },
  {
   "cell_type": "code",
   "execution_count": null,
   "metadata": {},
   "outputs": [],
   "source": [
    "if RUN_CNN:\n",
    "    configurations[\"predictions\"] = cnn2d_prediction\n",
    "    metrics = financial_evaluation(**configurations)"
   ]
  }
 ],
 "metadata": {
  "kernelspec": {
   "display_name": "cnn-ta",
   "language": "python",
   "name": "cnn-ta"
  },
  "language_info": {
   "codemirror_mode": {
    "name": "ipython",
    "version": 3
   },
   "file_extension": ".py",
   "mimetype": "text/x-python",
   "name": "python",
   "nbconvert_exporter": "python",
   "pygments_lexer": "ipython3",
   "version": "3.7.16"
  },
  "varInspector": {
   "cols": {
    "lenName": 16,
    "lenType": 16,
    "lenVar": 40
   },
   "kernels_config": {
    "python": {
     "delete_cmd_postfix": "",
     "delete_cmd_prefix": "del ",
     "library": "var_list.py",
     "varRefreshCmd": "print(var_dic_list())"
    },
    "r": {
     "delete_cmd_postfix": ") ",
     "delete_cmd_prefix": "rm(",
     "library": "var_list.r",
     "varRefreshCmd": "cat(var_dic_list()) "
    }
   },
   "types_to_exclude": [
    "module",
    "function",
    "builtin_function_or_method",
    "instance",
    "_Feature"
   ],
   "window_display": false
  }
 },
 "nbformat": 4,
 "nbformat_minor": 5
}
